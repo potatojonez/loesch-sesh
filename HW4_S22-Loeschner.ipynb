{
 "cells": [
  {
   "cell_type": "markdown",
   "metadata": {},
   "source": [
    "# Homework 4: Fitting data using SciPy"
   ]
  },
  {
   "cell_type": "markdown",
   "metadata": {
    "id": "ub1zQwFBzXto"
   },
   "source": [
    "### <p style=\"text-align: right;\"> &#9989; Joey Loeschner"
   ]
  },
  {
   "cell_type": "markdown",
   "metadata": {
    "id": "8mvK6SgNp-7m"
   },
   "source": [
    "# __CMSE  201 &ndash; Spring 2022__\n",
    "\n",
    "<img src=\"https://cmse.msu.edu/sites/_cmse/assets/Image/image002.jpg\"\n",
    "     alt=\"CMSE Logo\"\n",
    "     align=\"right\" \n",
    "     height=\"100\" \n",
    "     width=\"100\" />\n",
    "     \n",
    "## Goals\n",
    "\n",
    "### By the end of the homework assignment you will have practiced:\n",
    "\n",
    "1. Fitting curves using SciPy\n",
    "2. Plotting data and the correspoding best-fit results\n",
    "3. Calculating mean squared error when fitting a models to data"
   ]
  },
  {
   "cell_type": "markdown",
   "metadata": {
    "id": "qR5VB6bxzLqF"
   },
   "source": [
    "## Assignment instructions\n",
    "\n",
    "Work through the following assignment, making sure to follow all of the directions and answer all of the questions.\n",
    "\n",
    "**This assignment is due at 11:59pm on Friday, March 18.** \n",
    "\n",
    "It should be uploaded to D2L in the approach \"Homework\" submission folder.  Submission instructions can be found at the end of the notebook as well."
   ]
  },
  {
   "cell_type": "markdown",
   "metadata": {},
   "source": [
    "## Grading\n",
    "\n",
    "- Academic Integrity (1 point)\n",
    "- Question 0 (1 point)\n",
    "- Question 1 (4 points)\n",
    "- Question 2 (3 points)\n",
    "- Question 3 (19 points)\n",
    "- Question 4 (5 points)\n",
    "- Question 5 (9 points)\n",
    "- Question 6 (6 points)\n",
    "- Question 7 (2 points)\n",
    "\n",
    "**Total:** 50 points\n"
   ]
  },
  {
   "cell_type": "markdown",
   "metadata": {},
   "source": [
    "---\n",
    "# Academic integrity statement (1 point)\n",
    "\n",
    "In the markdown cell below, put your personal academic integrity statement (composed during the Day04 In-Class Assignment). By including this statement, you are confirming that the work you submit in the assignment is wholly your own.  "
   ]
  },
  {
   "cell_type": "markdown",
   "metadata": {},
   "source": [
    "<font size=6 color=\"#009600\">&#9998;</font> I, Joey Loeschner, value the opportunity to receive a college education. As I value my education, I commit to studying and working hard to the best of my ability, submitting my own work, and citing when needing to do so. Integrity is significant to me because it reveals each individuals true character and ideas. I am aware of the MSU policy concerning academic honesty, plagiarism, and cheating."
   ]
  },
  {
   "cell_type": "markdown",
   "metadata": {},
   "source": [
    "___\n"
   ]
  },
  {
   "cell_type": "markdown",
   "metadata": {},
   "source": [
    "### &#9989;&nbsp; Question 0: Importing modules (1 point)\n",
    "\n",
    "In this homework you're going to be using matplotlib, NumPy, and SciPy's `curve_fit` function, make sure you include all of the important and necessary `import` comments here."
   ]
  },
  {
   "cell_type": "code",
   "execution_count": 1,
   "metadata": {
    "jupyter": {
     "outputs_hidden": true
    },
    "tags": []
   },
   "outputs": [],
   "source": [
    "# Put your code here\n",
    "import matplotlib.pyplot as plt\n",
    "from scipy.optimize import curve_fit\n",
    "import numpy as np"
   ]
  },
  {
   "cell_type": "markdown",
   "metadata": {},
   "source": [
    "## 1. Generating Model Data\n",
    "\n",
    "### &#9989;&nbsp; Question 1.1: (2 points)\n",
    "\n",
    "In this homework, we will look at fitting higher order polynomials to data, and compare them to the linear fitting. We start with the simplest linear function $y(x) = 2x$ on the domain $0 \\leq x \\leq 1$.\n",
    "\n",
    "We start by making an array of $x-values$ that spans from 0 to 1 with 21 points between the two values. Then, we define the linear function $y(x) = 2x$. We call the corresponding $y$-data generated from the function $y$ the *pure data.*\n",
    "\n",
    "We will also generate a noisy data set $z$ by adding Gaussian noise with mean zero and standard deviation 0.1 to all of the $y$ values.\n",
    "\n",
    "You are the given some of the codes.\n",
    "```\n",
    "x = ?\n",
    "y = ?\n",
    "np.random.seed(seed = 1)\n",
    "noise = np.random.normal(0, 0.1, x.size)\n",
    "z = y + noise\n",
    "```\n",
    "In the following cell, please **complete** the missing parts that marked as (?) in the given codes.\n",
    "\n",
    "Notice: Here the code `np.random.seed(seed = 1)` fixes the seed that generats subsequent random numbers, so that the following `np.random.normal` picks one specific random sequence. **In this homework, for the sake of grading, you should always add this command each time right before generating random numbers like `noise`.**"
   ]
  },
  {
   "cell_type": "code",
   "execution_count": 2,
   "metadata": {
    "jupyter": {
     "outputs_hidden": true
    }
   },
   "outputs": [],
   "source": [
    "# Put your code here\n",
    "\n",
    "# x = ?\n",
    "# y = ?\n",
    "# np.random.seed(seed = 1)\n",
    "# noise = np.random.normal(0, 0.1, x.size)\n",
    "# z = y + noise"
   ]
  },
  {
   "cell_type": "markdown",
   "metadata": {},
   "source": [
    "### &#9989;&nbsp; Question 1.2: (2 points)\n",
    "\n",
    "Create a **plot** of these two data sets ($y$ and $z$) by making two sub-plots with separated markers. Remember to add proper axes labels and titles."
   ]
  },
  {
   "cell_type": "code",
   "execution_count": 3,
   "metadata": {
    "jupyter": {
     "outputs_hidden": true
    }
   },
   "outputs": [],
   "source": [
    "# Put your code here"
   ]
  },
  {
   "cell_type": "markdown",
   "metadata": {},
   "source": [
    "## 2. Fitting Linear (1st-Order Polynomial) Models to Data\n",
    "\n",
    "### &#9989;&nbsp; Question 2: (3 points)\n",
    "\n",
    "In this question, you should use *scipy.optimize.curve_fit* function for these two data sets. \n",
    "\n",
    "Please fit linear functions to both of pure data and noisy data, and **plot** your predicted functions with the original data sets in sub-plots. Remember to add legends."
   ]
  },
  {
   "cell_type": "code",
   "execution_count": 4,
   "metadata": {
    "jupyter": {
     "outputs_hidden": true
    }
   },
   "outputs": [],
   "source": [
    "# Put your code here"
   ]
  },
  {
   "cell_type": "markdown",
   "metadata": {},
   "source": [
    "## 3. Exploring Linear Model Fits\n",
    "\n",
    "### &#9989;&nbsp; Question 3.1: (4 points)\n",
    "\n",
    "Please **print out** all the fitted model parameters for the pure data set in Question 2, and **answer** the following questions.\n",
    "- For pure data, what are the expected fitted parameters? Please explain the reason.\n",
    "- Do you get the exact parameters?"
   ]
  },
  {
   "cell_type": "code",
   "execution_count": 5,
   "metadata": {
    "jupyter": {
     "outputs_hidden": true
    }
   },
   "outputs": [],
   "source": [
    "# Put your code here"
   ]
  },
  {
   "cell_type": "markdown",
   "metadata": {},
   "source": [
    "<font size=+3>&#9998;</font> *Put your answers here.*\n",
    "- answer\n",
    "- answer"
   ]
  },
  {
   "cell_type": "markdown",
   "metadata": {},
   "source": [
    "### &#9989;&nbsp; Question 3.2: (5 points)\n",
    "\n",
    "Please **print out** all the fitted model parameters for the noisy data set in Question 2, and **answer** the following questions.\n",
    "- For noisy data, what are the expected fitted parameters? Please explain the reason.\n",
    "- Do you get the exact parameters?\n",
    "- Are this result close to the answer in Questions 3.1?"
   ]
  },
  {
   "cell_type": "code",
   "execution_count": 6,
   "metadata": {
    "jupyter": {
     "outputs_hidden": true
    }
   },
   "outputs": [],
   "source": [
    "# Put your code here"
   ]
  },
  {
   "cell_type": "markdown",
   "metadata": {},
   "source": [
    "<font size=+3>&#9998;</font> *Put your answers here.*\n",
    "- answer\n",
    "- answer\n",
    "- answer"
   ]
  },
  {
   "cell_type": "markdown",
   "metadata": {},
   "source": [
    "### &#9989;&nbsp; Question 3.3: (5 points)\n",
    "\n",
    "Now, fit linear functions to the noisy data again just like Questions 1 and 2, but this time, we will use different noise options in `np.random.normal` for our noisy data, i.e., Gaussian noise with mean zero and standard deviation 0.01. Please **plot** your predicted functions with the new noisy data, **print out** the fitted model parameters, and **answer** the following questions.\n",
    "- Comparing to the results you got in Question 2, what kind of change to the noisy data can you observe?\n",
    "- Comparing to the results you got in Question 2, what kind of change to the fitted function can you observe?\n",
    "- Comparing to the results you got in Question 3.2, what kind of change to the fitted model parameters can you observe?"
   ]
  },
  {
   "cell_type": "code",
   "execution_count": 7,
   "metadata": {
    "jupyter": {
     "outputs_hidden": true
    }
   },
   "outputs": [],
   "source": [
    "# Put your code here"
   ]
  },
  {
   "cell_type": "markdown",
   "metadata": {},
   "source": [
    "<font size=+3>&#9998;</font> *Put your answers here.*\n",
    "- answer\n",
    "- answer\n",
    "- answer"
   ]
  },
  {
   "cell_type": "markdown",
   "metadata": {},
   "source": [
    "### &#9989;&nbsp; Question 3.4: (5 points)\n",
    "\n",
    "Fit linear functions to the noisy data again and take Gaussian noise with mean 2 and standard deviation 0.1. Please **plot** your predicted functions with the new noisy data, **print out** the fitted model parameters, and **answer** the following questions.\n",
    "- Comparing to the results you got in Question 2, what kind of change to the noisy data can you observe?\n",
    "- Comparing to the results you got in Question 2, what kind of change to the fitted function can you observe?\n",
    "- Comparing to the results you got in Question 3.2, what kind of change to the fitted model parameters can you observe?"
   ]
  },
  {
   "cell_type": "code",
   "execution_count": 8,
   "metadata": {
    "jupyter": {
     "outputs_hidden": true
    }
   },
   "outputs": [],
   "source": [
    "# Put your code here"
   ]
  },
  {
   "cell_type": "markdown",
   "metadata": {},
   "source": [
    "<font size=+3>&#9998;</font> *Put your answers here.*\n",
    "- answer\n",
    "- answer\n",
    "- answer"
   ]
  },
  {
   "cell_type": "markdown",
   "metadata": {},
   "source": [
    "## 4. Fitting Quartic (4th-Order Polynomial) Functions\n",
    "\n",
    "\n",
    "### &#9989;&nbsp; Question 4.1: (1 points)\n",
    "\n",
    "To improve the fitting, one idea is to add more parameters in the model, so that the model can be more flexible. For example, we can take polynomials with higher orders, say quardratic (2nd order) polynomials, cubic (3rd order) polynomials, quartic (4th order) polynomials, ... rather than linear (1st order) polynomials.\n",
    "\n",
    "Let's try quartic (4th order) polynomials in this question. Here are some examples of quartic polynomials\n",
    "$$\n",
    "y(x) = 2x^4 - 3, \\\\\n",
    "y(x) = 0.5x^4 + 1.75x^3 + 3x^2 - x + 7.\n",
    "$$\n",
    "\n",
    "Please **answer** the following question.\n",
    "- How many (fit) parameters are there in a general quartic (4th order) polynomial?"
   ]
  },
  {
   "cell_type": "markdown",
   "metadata": {},
   "source": [
    "<font size=+3>&#9998;</font> *Put your answer here.*\n",
    "- answer"
   ]
  },
  {
   "cell_type": "markdown",
   "metadata": {},
   "source": [
    "### &#9989;&nbsp; Question 4.2: (4 points)\n",
    "\n",
    "Please fit quartic polynomials to pure data and the original noisy data (takeing Gaussian noise with mean zero and standard deviation 0.1). Please **plot** your new fitting functions based on the plots in Question 2. That is to say, plot two subplots for pure data and noisy data, and plot the linear fittings and the quartic fittings on them."
   ]
  },
  {
   "cell_type": "code",
   "execution_count": 9,
   "metadata": {
    "jupyter": {
     "outputs_hidden": true
    }
   },
   "outputs": [],
   "source": [
    "# Put your code here"
   ]
  },
  {
   "cell_type": "markdown",
   "metadata": {},
   "source": [
    "## 5. Exploring Quartic Model Fits\n",
    "\n",
    "### &#9989;&nbsp; Question 5.1: (5 points)\n",
    "\n",
    "Please **print out** new fitted model parameters for the both data sets in Question 4, and **answer** the following questions:\n",
    "- For pure data, what are the expected fitted parameters for the quartic polynomial? Please explain the reason. \n",
    "- Do you get the exact parameters?\n",
    "- For quartic fitting to the noisy data, is that optimized parameter close to the one from the pure data?"
   ]
  },
  {
   "cell_type": "code",
   "execution_count": 10,
   "metadata": {
    "jupyter": {
     "outputs_hidden": true
    }
   },
   "outputs": [],
   "source": [
    "# Put your code here"
   ]
  },
  {
   "cell_type": "markdown",
   "metadata": {},
   "source": [
    "<font size=+3>&#9998;</font> *Put your answers here.*\n",
    "- answer\n",
    "- answer\n",
    "- answer"
   ]
  },
  {
   "cell_type": "markdown",
   "metadata": {},
   "source": [
    "### &#9989;&nbsp; Question 5.2: (4 points)\n",
    "\n",
    "Let's focus on the noisy data and its linear and quartic fittings you have found in Question 4. Please **plot** both fitted functions on a larger domain $-1 \\leq x \\leq 2$, and **answer** the following question:\n",
    "- On the larger domain $-1 \\leq x \\leq 2$, do you think the quartic fitting is close to a linear function or not?\n",
    "- Based on your fitted parameters and the expression of the quartic polynomial, which terms in the polynomial play a key role in the prediction at $x = 2$?\n",
    "- In predicting values outside the range of data, which model is more sensitive to the noise, linear one or quartic one?"
   ]
  },
  {
   "cell_type": "code",
   "execution_count": 11,
   "metadata": {
    "jupyter": {
     "outputs_hidden": true
    },
    "tags": []
   },
   "outputs": [],
   "source": [
    "# Put your code here"
   ]
  },
  {
   "cell_type": "markdown",
   "metadata": {},
   "source": [
    "<font size=+3>&#9998;</font> *Put your answers here.*\n",
    "- answer\n",
    "- answer\n",
    "- answer"
   ]
  },
  {
   "cell_type": "markdown",
   "metadata": {},
   "source": [
    "## 6. (Quantitatively) Evaluating the Model Fits\n",
    "\n",
    "\n",
    "### &#9989;&nbsp; Question 6: (6 points)\n",
    "\n",
    "A simple approach that evaluates the quality of the fitting is to measure the mean squared error (MSE). That is, given the data $\\{ (a_i, b_i) \\} _{i = 1} ^N$, and the fitted model $f$, we shall calculate the  mean squared error\n",
    "$$ MSE := \\frac{1}{N}\\sum_{i=1}^{N} (f(a_i) - b_i) ^2.$$\n",
    "\n",
    "First, please **write** function *MSE*, which has two inputs and one output:\n",
    "- Input 1: the $y$ data $f(a)$ as a *numpy.ndarray*,\n",
    "- Input 2: the model fit $y$-value $b$ as a *numpy.ndarray* (with the same size as Input 1),\n",
    "- Output: the mean squared error $MSE$ as a *float*.\n",
    "\n",
    "Then, **calculate** the MSE with respect to the data and fitted models we have done in Question 4:\n",
    "1. pure data, with linear fit,\n",
    "1. pure data, with quartic fit,\n",
    "1. noisy data, with linear fit,\n",
    "1. noisy data, with quartic fit.\n",
    "\n",
    "Finally, **answer** the following question:\n",
    "- When considering the noisy data, which fit model has less MSE? Please explain the reason."
   ]
  },
  {
   "cell_type": "code",
   "execution_count": 12,
   "metadata": {
    "jupyter": {
     "outputs_hidden": true
    },
    "tags": []
   },
   "outputs": [],
   "source": [
    "# Put your code here"
   ]
  },
  {
   "cell_type": "markdown",
   "metadata": {},
   "source": [
    "<font size=+3>&#9998;</font> *Put your answer here.*\n",
    "- answer"
   ]
  },
  {
   "cell_type": "markdown",
   "metadata": {},
   "source": [
    "## 7. Reflecting on Model Fitting\n",
    "\n",
    "### &#9989;&nbsp; Question 7: (2 points)\n",
    "\n",
    "The previous questions are based on artificial data, but for real-world data, the we will have the same question about how to choose the fitted model. Please **answer** the following questions:\n",
    "- Is it true the models with more parameters (or with larger function space) is better?\n",
    "- For real-world data, what kind of fitting models shall we choose?"
   ]
  },
  {
   "cell_type": "markdown",
   "metadata": {},
   "source": [
    "<font size=+3>&#9998;</font> *Put your answers here.*\n",
    "- answer\n",
    "- answer"
   ]
  },
  {
   "cell_type": "markdown",
   "metadata": {
    "id": "LWhZbMUPzLq-"
   },
   "source": [
    "---\n",
    "\n",
    "### Congratulations, you're done!\n",
    "\n",
    "Submit this assignment by uploading it to the course Desire2Learn web page.  \n",
    "Go to the \"Homework Assignments\" section, find the appropriate submission folder link, and upload it there.\n"
   ]
  },
  {
   "cell_type": "markdown",
   "metadata": {
    "id": "AeXZvgIIzLq-"
   },
   "source": [
    "&#169; Copyright 2022, [Department of Computational Mathematics, Science and Engineering](https://cmse.msu.edu) at Michigan State University."
   ]
  }
 ],
 "metadata": {
  "colab": {
   "name": "HW-03_ItalyMigrationData.ipynb",
   "provenance": []
  },
  "kernelspec": {
   "display_name": "Python 3 (ipykernel)",
   "language": "python",
   "name": "python3"
  },
  "language_info": {
   "codemirror_mode": {
    "name": "ipython",
    "version": 3
   },
   "file_extension": ".py",
   "mimetype": "text/x-python",
   "name": "python",
   "nbconvert_exporter": "python",
   "pygments_lexer": "ipython3",
   "version": "3.9.7"
  }
 },
 "nbformat": 4,
 "nbformat_minor": 4
}
