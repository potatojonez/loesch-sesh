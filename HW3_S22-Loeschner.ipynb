{
 "cells": [
  {
   "cell_type": "markdown",
   "metadata": {},
   "source": [
    "# Homework 3: Pandas data analysis"
   ]
  },
  {
   "cell_type": "markdown",
   "metadata": {},
   "source": [
    "### <p style=\"text-align: right;\"> &#9989; Joey Loeschner"
   ]
  },
  {
   "cell_type": "markdown",
   "metadata": {},
   "source": [
    "# __CMSE  201 &ndash; Spring 2022__\n",
    "\n",
    "<img src=\"https://cmse.msu.edu/sites/_cmse/assets/Image/image002.jpg\"\n",
    "     alt=\"CMSE Logo\"\n",
    "     align=\"right\" \n",
    "     height=\"100\" \n",
    "     width=\"100\" />\n",
    "\n",
    "\n",
    "\n",
    "## Learning Goals\n",
    "\n",
    "* Load data into notebooks using Pandas\n",
    "* Determine the components of the data\n",
    "* Make meaningful visual representations of the data\n",
    "* Draw conclusions from statistical analysis \n",
    "\n",
    "___"
   ]
  },
  {
   "cell_type": "markdown",
   "metadata": {},
   "source": [
    "## Assignment instructions\n",
    "\n",
    "Work through the following assignment, making sure to follow all of the directions and answer all of the questions.\n",
    "\n",
    "**This assignment is due at 11:59pm on Friday, Feb. 25th** \n",
    "\n",
    "It should be uploaded into D2L Homework #3.  Submission instructions can be found at the end of the notebook."
   ]
  },
  {
   "cell_type": "markdown",
   "metadata": {},
   "source": [
    "## Grading\n",
    "\n",
    "- Academic integrity statement: 1 pt\n",
    "- Part 0: Revisit plotting in HW2: 6 pts\n",
    "- Part 1: Reading, Describing, and Cleaning the Data: 22 pts\n",
    "- Part 2: Data analysis: 21 pts\n",
    "\n",
    "**Total:** 50 pts\n"
   ]
  },
  {
   "cell_type": "markdown",
   "metadata": {},
   "source": [
    "## Academic integrity statement (1 point)\n",
    "\n",
    "In the markdown cell below, paste your personal academic integrity statement. By including this statement, you are confirming that you are submitting this as your own work and not that of someone else."
   ]
  },
  {
   "cell_type": "markdown",
   "metadata": {},
   "source": [
    "<font size=6 color=\"#009600\">&#9998;</font> *Put your personal academic integrity statement here.*"
   ]
  },
  {
   "cell_type": "markdown",
   "metadata": {},
   "source": [
    "Before we read in the data and begin working with it, let's import the libraries that we would typically use for this task. You can always come back to this cell and import additional libraries that you need."
   ]
  },
  {
   "cell_type": "code",
   "execution_count": 1,
   "metadata": {},
   "outputs": [],
   "source": [
    "import pandas as pd\n",
    "import matplotlib.pyplot as plt\n",
    "import numpy as np\n",
    "import math\n",
    "%matplotlib inline"
   ]
  },
  {
   "cell_type": "markdown",
   "metadata": {},
   "source": [
    "### Part 0: Revisit plotting in HW2 (6 total points)"
   ]
  },
  {
   "cell_type": "markdown",
   "metadata": {},
   "source": [
    "In question 4 of HW2, we consider two equations that give the (x,y) points for values of k (ranging from 0 to 9000). When all 9000 points are plotted, you will see that it draws out a flower design.\n",
    "\n",
    "$x(k) = \\mathrm{cos}\\Big(\\frac{14 \\pi k}{9000}\\Big)\\Big(1-\\frac{3}{4}\\mathrm{sin}\\Big(\\frac{20\\pi k}{9000}\\Big)-\\frac{1}{4}\\mathrm{cos}\\Big(\\frac{60 \\pi k}{9000}\\Big)\\Big)$\n",
    "\n",
    "$y(k) = \\mathrm{sin}\\Big(\\frac{14 \\pi k}{9000}\\Big)\\Big(1-\\frac{3}{4}\\mathrm{sin}\\Big(\\frac{20\\pi k}{9000}\\Big)-\\frac{1}{4}\\mathrm{cos}\\Big(\\frac{60 \\pi k}{9000}\\Big)\\Big)$\n",
    "\n",
    "The goal here is to revisit this problem, and achieve the same purpose by using numpy arrary and functions. Now the code will be much shorter. (Note: in this question, you are not allowed to use `list` and you no longer need to define `draw_flower_points` function.)\n",
    "\n",
    "<font size=8 color=\"#009600\">&#9998;</font> Do This - Write a piece of code to define `k` as a numpy array ranging from 0 to 9000 with 500 points. (2 points) Use `np.sin` and `np.cos` to define `x_k` and `y_k` as the corresponding numpy. (3 points) Then plot the final flower design. (1 point)\n"
   ]
  },
  {
   "cell_type": "code",
   "execution_count": 15,
   "metadata": {},
   "outputs": [],
   "source": [
    "## your code here"
   ]
  },
  {
   "cell_type": "markdown",
   "metadata": {},
   "source": [
    "### Part 1: Reading, Describing, and Cleaning the Data (22 total points)\n"
   ]
  },
  {
   "cell_type": "markdown",
   "metadata": {},
   "source": [
    "The United Nations compiles an annual publication called the [World Happiness Report](https://en.wikipedia.org/wiki/World_Happiness_Report) that ranks countries by the \"happiness score\" or \"life ladder\". These scores are based on a surveys of citizens of each country on a variety of factors such as:\n",
    "* Gross Domestic Product (GDP) per capita\n",
    "* Perceptions of social support\n",
    "* Life expectancy\n",
    "* Freedom of choice\n",
    "\n",
    "[Data from the UN](https://worldhappiness.report/) is available from 2005-2019, which we have downloaded in a `.csv` format. The survey has changed over time, so that some factors and questions have been omitted. So some of the data is incomplete or missing.\n",
    "\n",
    "### 1.1 Read the data (4 points)\n",
    "\n",
    "<font size=8 color=\"#009600\">&#9998;</font> Do This - Read in the survey data from `happiness_index.csv` into a DataFrame and print the `.head()` of the data, use `describe` to get a feel of this dataset."
   ]
  },
  {
   "cell_type": "code",
   "execution_count": null,
   "metadata": {},
   "outputs": [],
   "source": [
    "## your code here"
   ]
  },
  {
   "cell_type": "markdown",
   "metadata": {},
   "source": [
    "### 1.2 Clean the data (8 total points)\n",
    "\n",
    "#### 1.2.1 Remove and track excess data (2 points)\n",
    "\n",
    "We need to remove the excess features that are not present in every year's data. \n",
    "\n",
    "<font size=8 color=\"#009600\">&#9998;</font> Do This - Drop the columns that are not the following:\n",
    "* Country name\n",
    "* year\n",
    "* Life Ladder\n",
    "* Log GDP per capita\n",
    "* Social support\n",
    "* Healthy life expectancy at birth\n",
    "* Freedom to make life choices\n",
    "* Generosity\n",
    "* Perceptions of corruption\n",
    "* Positive affect\n",
    "* Negative affect\n",
    "* Confidence in national government\n",
    "* Democratic Quality\n",
    "* Delivery Quality\n",
    "\n",
    "Make sure to make a list of the columns that you dropped. This is important if you need to report what you didn't consider in the model. Print the `.head()` of the DataFrame after dropping the unneeded columns."
   ]
  },
  {
   "cell_type": "code",
   "execution_count": null,
   "metadata": {},
   "outputs": [],
   "source": [
    "## your code here"
   ]
  },
  {
   "cell_type": "markdown",
   "metadata": {},
   "source": [
    "#### 1.2.2 Focus on the 2018 data (3 points)\n",
    "\n",
    "Your data should include scores for a variety of years (2005-2019) for each country. Let's focus on a single year: 2018. \n",
    "\n",
    "<font size=8 color=\"#009600\">&#9998;</font> Do This - Use mask to filter your data to focus only on the latest available data from 2018. Print the `.head()` of that DataFrame."
   ]
  },
  {
   "cell_type": "code",
   "execution_count": null,
   "metadata": {},
   "outputs": [],
   "source": [
    "## your code here"
   ]
  },
  {
   "cell_type": "markdown",
   "metadata": {},
   "source": [
    "#### 1.2.3 Missing data (3 points)\n",
    "\n",
    "Not all the countries have reported values for every feature. You should check if any countries have missing data. We could impute these missing data in a variety of ways, but instead to make our work a little simpler, we will simply drop a country if it has any missing data.  \n",
    "\n",
    "<font size=8 color=\"#009600\">&#9998;</font> Do This - Drop any country from the data that is missing data."
   ]
  },
  {
   "cell_type": "code",
   "execution_count": null,
   "metadata": {},
   "outputs": [],
   "source": [
    "## your code here"
   ]
  },
  {
   "cell_type": "markdown",
   "metadata": {},
   "source": [
    "### 1.3 Describe the data (10 points)\n",
    "\n",
    "Now that you have a cleaned data set, let's look into the data. We can start that by describing the data and making histograms of it. \n",
    "\n",
    "<font size=8 color=\"#009600\">&#9998;</font> Do This - Focusing on the data collected in the survey (i.e., not the country name or year), *describe* the data by using the `describe` function in pandas. (2 points)"
   ]
  },
  {
   "cell_type": "code",
   "execution_count": null,
   "metadata": {},
   "outputs": [],
   "source": [
    "## your code here"
   ]
  },
  {
   "cell_type": "markdown",
   "metadata": {},
   "source": [
    "<font size=8 color=\"#009600\">&#9998;</font> Do This - We can use numpy functions to verify what we have obtained in the description in the previous part. Define a Numpy array to be the same as the column of data corresponding to the feature 'Life Ladder'. Use Numpy functions to compute the mean and the standard deviation of this array. Does it agree with what you had from the previous question? (4 points)"
   ]
  },
  {
   "cell_type": "code",
   "execution_count": null,
   "metadata": {},
   "outputs": [],
   "source": [
    "## your code here"
   ]
  },
  {
   "cell_type": "markdown",
   "metadata": {},
   "source": [
    "<font size=8 color=\"#009600\">&#9998;</font> Do This -Make histograms describing the distributions of all the features. (4 points)"
   ]
  },
  {
   "cell_type": "code",
   "execution_count": null,
   "metadata": {},
   "outputs": [],
   "source": [
    "## your code here"
   ]
  },
  {
   "cell_type": "markdown",
   "metadata": {},
   "source": [
    "## Part 2: Data analysis (21 total points)\n",
    "\n",
    "Now  we will analyze the cleaned dataset.\n",
    "\n",
    "### 2.1 The ranking (12 points)\n",
    "\n",
    "The rankings of national happiness are based on a Cantril ladder survey. Nationally representative samples of respondents are asked to think of a ladder, with the best possible life for them being a 10, and the worst possible life being a 0.  This is represented by 'Life Ladder' in the dataset.\n",
    "\n",
    "\n",
    "<font size=8 color=\"#009600\">&#9998;</font> Do This - Reorder the dataframe   according to descending values of the 'Life Ladder' score using `sort_values` (Refer to  (https://pandas.pydata.org/docs/reference/api/pandas.DataFrame.sort_values.html#pandas.DataFrame.sort_values). Which are the top 3 happiest  countries? (4 points)"
   ]
  },
  {
   "cell_type": "code",
   "execution_count": null,
   "metadata": {},
   "outputs": [],
   "source": [
    "## your code here"
   ]
  },
  {
   "cell_type": "markdown",
   "metadata": {},
   "source": [
    "<font size=8 color=\"#009600\">&#9998;</font> Do This -  Replace the index of the sorted dataframe to be the ranking of the ranking of the country. (4 points)"
   ]
  },
  {
   "cell_type": "code",
   "execution_count": null,
   "metadata": {},
   "outputs": [],
   "source": [
    "## your code here"
   ]
  },
  {
   "cell_type": "markdown",
   "metadata": {},
   "source": [
    "<font size=8 color=\"#009600\">&#9998;</font> Do this - Use mask to find the United States in this ranking. What's the ranking of the U.S.? (4 points)"
   ]
  },
  {
   "cell_type": "code",
   "execution_count": null,
   "metadata": {},
   "outputs": [],
   "source": [
    "## your code here"
   ]
  },
  {
   "cell_type": "markdown",
   "metadata": {},
   "source": [
    "### 2.2 Determining which features will matter (9 points)\n",
    "\n",
    "We want to understand what variables matters for people's happiness. We will do this by starting the correlation of the features with `Life Ladder`.\n",
    "\n",
    "<font size=8 color=\"#009600\">&#9998;</font> Do this - Make   `scatter` plots of `Life Ladder` vs. all other features. (5 points)  "
   ]
  },
  {
   "cell_type": "code",
   "execution_count": null,
   "metadata": {},
   "outputs": [],
   "source": [
    "## your code here"
   ]
  },
  {
   "cell_type": "markdown",
   "metadata": {},
   "source": [
    "<font size=8 color=\"#009600\">&#9998;</font> Do this -  Look at your plots, for each feature, is it correlated to `Life Ladder`? If so, is it positively or negatively correlated? Explain your reasoning (4 points)"
   ]
  },
  {
   "cell_type": "markdown",
   "metadata": {},
   "source": [
    "<font size=6 color=\"#009600\">&#9998;</font> Write your answer here"
   ]
  },
  {
   "cell_type": "markdown",
   "metadata": {},
   "source": [
    "---\n",
    "\n",
    "### Congratulations, you're done!\n",
    "\n",
    "Submit this assignment by uploading it to the course Desire2Learn web page.  Go to the \"Homework Assignments\" section, find the submission folder link for Homework #3, and upload it there."
   ]
  },
  {
   "cell_type": "markdown",
   "metadata": {},
   "source": [
    "&#169; Copyright Michigan State University Board of Trustees"
   ]
  }
 ],
 "metadata": {
  "kernelspec": {
   "display_name": "Python 3 (ipykernel)",
   "language": "python",
   "name": "python3"
  },
  "language_info": {
   "codemirror_mode": {
    "name": "ipython",
    "version": 3
   },
   "file_extension": ".py",
   "mimetype": "text/x-python",
   "name": "python",
   "nbconvert_exporter": "python",
   "pygments_lexer": "ipython3",
   "version": "3.9.7"
  }
 },
 "nbformat": 4,
 "nbformat_minor": 4
}
